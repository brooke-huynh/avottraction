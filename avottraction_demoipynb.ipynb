{
  "nbformat": 4,
  "nbformat_minor": 0,
  "metadata": {
    "colab": {
      "provenance": [],
      "include_colab_link": true
    },
    "kernelspec": {
      "name": "python3",
      "display_name": "Python 3"
    },
    "language_info": {
      "name": "python"
    },
    "widgets": {
      "application/vnd.jupyter.widget-state+json": {
        "a986ca740e9647e9906ebd52ac08b0e4": {
          "model_module": "@jupyter-widgets/controls",
          "model_name": "VBoxModel",
          "model_module_version": "1.5.0",
          "state": {
            "_dom_classes": [
              "widget-interact"
            ],
            "_model_module": "@jupyter-widgets/controls",
            "_model_module_version": "1.5.0",
            "_model_name": "VBoxModel",
            "_view_count": null,
            "_view_module": "@jupyter-widgets/controls",
            "_view_module_version": "1.5.0",
            "_view_name": "VBoxView",
            "box_style": "",
            "children": [
              "IPY_MODEL_11b18702d68e447bb903815de608410b",
              "IPY_MODEL_d07330e58ead40888c786dd43192d4a3",
              "IPY_MODEL_0dc661e4ab1b4f24be9762791d79ba78"
            ],
            "layout": "IPY_MODEL_2a044ab2b6374e67ad22864809a6b3ec"
          }
        },
        "11b18702d68e447bb903815de608410b": {
          "model_module": "@jupyter-widgets/controls",
          "model_name": "IntSliderModel",
          "model_module_version": "1.5.0",
          "state": {
            "_dom_classes": [],
            "_model_module": "@jupyter-widgets/controls",
            "_model_module_version": "1.5.0",
            "_model_name": "IntSliderModel",
            "_view_count": null,
            "_view_module": "@jupyter-widgets/controls",
            "_view_module_version": "1.5.0",
            "_view_name": "IntSliderView",
            "continuous_update": true,
            "description": "label_idx",
            "description_tooltip": null,
            "disabled": false,
            "layout": "IPY_MODEL_39925b206a324ee2bcc8347819e20297",
            "max": 3,
            "min": 0,
            "orientation": "horizontal",
            "readout": true,
            "readout_format": "d",
            "step": 1,
            "style": "IPY_MODEL_daed3c096e5046aa983e8e3a08ad4c4c",
            "value": 2
          }
        },
        "d07330e58ead40888c786dd43192d4a3": {
          "model_module": "@jupyter-widgets/controls",
          "model_name": "FloatSliderModel",
          "model_module_version": "1.5.0",
          "state": {
            "_dom_classes": [],
            "_model_module": "@jupyter-widgets/controls",
            "_model_module_version": "1.5.0",
            "_model_name": "FloatSliderModel",
            "_view_count": null,
            "_view_module": "@jupyter-widgets/controls",
            "_view_module_version": "1.5.0",
            "_view_name": "FloatSliderView",
            "continuous_update": true,
            "description": "thresh",
            "description_tooltip": null,
            "disabled": false,
            "layout": "IPY_MODEL_f5374af23b394e7b917368b36848d51a",
            "max": 0.7,
            "min": 0.1,
            "orientation": "horizontal",
            "readout": true,
            "readout_format": ".2f",
            "step": 0.05,
            "style": "IPY_MODEL_db942c8dc2c7411a884f2421169065d5",
            "value": 0.25
          }
        },
        "0dc661e4ab1b4f24be9762791d79ba78": {
          "model_module": "@jupyter-widgets/output",
          "model_name": "OutputModel",
          "model_module_version": "1.0.0",
          "state": {
            "_dom_classes": [],
            "_model_module": "@jupyter-widgets/output",
            "_model_module_version": "1.0.0",
            "_model_name": "OutputModel",
            "_view_count": null,
            "_view_module": "@jupyter-widgets/output",
            "_view_module_version": "1.0.0",
            "_view_name": "OutputView",
            "layout": "IPY_MODEL_c4858bac0be54666ba00be25570f7b00",
            "msg_id": "",
            "outputs": [
              {
                "output_type": "stream",
                "name": "stdout",
                "text": [
                  "Label 2 — F1: 0.657\n"
                ]
              }
            ]
          }
        },
        "2a044ab2b6374e67ad22864809a6b3ec": {
          "model_module": "@jupyter-widgets/base",
          "model_name": "LayoutModel",
          "model_module_version": "1.2.0",
          "state": {
            "_model_module": "@jupyter-widgets/base",
            "_model_module_version": "1.2.0",
            "_model_name": "LayoutModel",
            "_view_count": null,
            "_view_module": "@jupyter-widgets/base",
            "_view_module_version": "1.2.0",
            "_view_name": "LayoutView",
            "align_content": null,
            "align_items": null,
            "align_self": null,
            "border": null,
            "bottom": null,
            "display": null,
            "flex": null,
            "flex_flow": null,
            "grid_area": null,
            "grid_auto_columns": null,
            "grid_auto_flow": null,
            "grid_auto_rows": null,
            "grid_column": null,
            "grid_gap": null,
            "grid_row": null,
            "grid_template_areas": null,
            "grid_template_columns": null,
            "grid_template_rows": null,
            "height": null,
            "justify_content": null,
            "justify_items": null,
            "left": null,
            "margin": null,
            "max_height": null,
            "max_width": null,
            "min_height": null,
            "min_width": null,
            "object_fit": null,
            "object_position": null,
            "order": null,
            "overflow": null,
            "overflow_x": null,
            "overflow_y": null,
            "padding": null,
            "right": null,
            "top": null,
            "visibility": null,
            "width": null
          }
        },
        "39925b206a324ee2bcc8347819e20297": {
          "model_module": "@jupyter-widgets/base",
          "model_name": "LayoutModel",
          "model_module_version": "1.2.0",
          "state": {
            "_model_module": "@jupyter-widgets/base",
            "_model_module_version": "1.2.0",
            "_model_name": "LayoutModel",
            "_view_count": null,
            "_view_module": "@jupyter-widgets/base",
            "_view_module_version": "1.2.0",
            "_view_name": "LayoutView",
            "align_content": null,
            "align_items": null,
            "align_self": null,
            "border": null,
            "bottom": null,
            "display": null,
            "flex": null,
            "flex_flow": null,
            "grid_area": null,
            "grid_auto_columns": null,
            "grid_auto_flow": null,
            "grid_auto_rows": null,
            "grid_column": null,
            "grid_gap": null,
            "grid_row": null,
            "grid_template_areas": null,
            "grid_template_columns": null,
            "grid_template_rows": null,
            "height": null,
            "justify_content": null,
            "justify_items": null,
            "left": null,
            "margin": null,
            "max_height": null,
            "max_width": null,
            "min_height": null,
            "min_width": null,
            "object_fit": null,
            "object_position": null,
            "order": null,
            "overflow": null,
            "overflow_x": null,
            "overflow_y": null,
            "padding": null,
            "right": null,
            "top": null,
            "visibility": null,
            "width": null
          }
        },
        "daed3c096e5046aa983e8e3a08ad4c4c": {
          "model_module": "@jupyter-widgets/controls",
          "model_name": "SliderStyleModel",
          "model_module_version": "1.5.0",
          "state": {
            "_model_module": "@jupyter-widgets/controls",
            "_model_module_version": "1.5.0",
            "_model_name": "SliderStyleModel",
            "_view_count": null,
            "_view_module": "@jupyter-widgets/base",
            "_view_module_version": "1.2.0",
            "_view_name": "StyleView",
            "description_width": "",
            "handle_color": null
          }
        },
        "f5374af23b394e7b917368b36848d51a": {
          "model_module": "@jupyter-widgets/base",
          "model_name": "LayoutModel",
          "model_module_version": "1.2.0",
          "state": {
            "_model_module": "@jupyter-widgets/base",
            "_model_module_version": "1.2.0",
            "_model_name": "LayoutModel",
            "_view_count": null,
            "_view_module": "@jupyter-widgets/base",
            "_view_module_version": "1.2.0",
            "_view_name": "LayoutView",
            "align_content": null,
            "align_items": null,
            "align_self": null,
            "border": null,
            "bottom": null,
            "display": null,
            "flex": null,
            "flex_flow": null,
            "grid_area": null,
            "grid_auto_columns": null,
            "grid_auto_flow": null,
            "grid_auto_rows": null,
            "grid_column": null,
            "grid_gap": null,
            "grid_row": null,
            "grid_template_areas": null,
            "grid_template_columns": null,
            "grid_template_rows": null,
            "height": null,
            "justify_content": null,
            "justify_items": null,
            "left": null,
            "margin": null,
            "max_height": null,
            "max_width": null,
            "min_height": null,
            "min_width": null,
            "object_fit": null,
            "object_position": null,
            "order": null,
            "overflow": null,
            "overflow_x": null,
            "overflow_y": null,
            "padding": null,
            "right": null,
            "top": null,
            "visibility": null,
            "width": null
          }
        },
        "db942c8dc2c7411a884f2421169065d5": {
          "model_module": "@jupyter-widgets/controls",
          "model_name": "SliderStyleModel",
          "model_module_version": "1.5.0",
          "state": {
            "_model_module": "@jupyter-widgets/controls",
            "_model_module_version": "1.5.0",
            "_model_name": "SliderStyleModel",
            "_view_count": null,
            "_view_module": "@jupyter-widgets/base",
            "_view_module_version": "1.2.0",
            "_view_name": "StyleView",
            "description_width": "",
            "handle_color": null
          }
        },
        "c4858bac0be54666ba00be25570f7b00": {
          "model_module": "@jupyter-widgets/base",
          "model_name": "LayoutModel",
          "model_module_version": "1.2.0",
          "state": {
            "_model_module": "@jupyter-widgets/base",
            "_model_module_version": "1.2.0",
            "_model_name": "LayoutModel",
            "_view_count": null,
            "_view_module": "@jupyter-widgets/base",
            "_view_module_version": "1.2.0",
            "_view_name": "LayoutView",
            "align_content": null,
            "align_items": null,
            "align_self": null,
            "border": null,
            "bottom": null,
            "display": null,
            "flex": null,
            "flex_flow": null,
            "grid_area": null,
            "grid_auto_columns": null,
            "grid_auto_flow": null,
            "grid_auto_rows": null,
            "grid_column": null,
            "grid_gap": null,
            "grid_row": null,
            "grid_template_areas": null,
            "grid_template_columns": null,
            "grid_template_rows": null,
            "height": null,
            "justify_content": null,
            "justify_items": null,
            "left": null,
            "margin": null,
            "max_height": null,
            "max_width": null,
            "min_height": null,
            "min_width": null,
            "object_fit": null,
            "object_position": null,
            "order": null,
            "overflow": null,
            "overflow_x": null,
            "overflow_y": null,
            "padding": null,
            "right": null,
            "top": null,
            "visibility": null,
            "width": null
          }
        }
      }
    }
  },
  "cells": [
    {
      "cell_type": "markdown",
      "metadata": {
        "id": "view-in-github",
        "colab_type": "text"
      },
      "source": [
        "<a href=\"https://colab.research.google.com/github/brooke-huynh/avottraction/blob/main/avottraction_demoipynb.ipynb\" target=\"_parent\"><img src=\"https://colab.research.google.com/assets/colab-badge.svg\" alt=\"Open In Colab\"/></a>"
      ]
    },
    {
      "cell_type": "markdown",
      "source": [
        "# 🚀 Welcome to the Avottraction Demo! 🍓💬\n",
        "\n",
        "👋\n",
        "\n",
        "In this Colab notebook, we'll explore a mini pipeline that **classifies text comments** into four categories:  \n",
        "**Sexual, Flirty, Wordplay, and Funny** — all at the same time! 🧠✨\n",
        "\n",
        "---\n",
        "\n",
        "## ✅ What You’ll Learn / Review:\n",
        "\n",
        "🔤 **Preprocessing** — cleaning and preparing text (emojis, contractions, stopwords)  \n",
        "🧠 **Transformers & Tokenization** — breaking text into model-ready inputs  \n",
        "🧪 **Training loop basics** — loss, steps, epochs, and batch sizes  \n",
        "🎯 **Multi-label classification** — predicting more than one label per input  \n",
        "🎚️ **Threshold tuning** — finding the best cutoff points for binary outputs  \n",
        "📈 **Evaluation & Visualization** — interpreting F1, ROC AUC, and loss curves\n",
        "\n",
        "---\n",
        "\n",
        "## 🔍 What We'll Do:\n",
        "\n",
        "- Clean and tokenize sample data  \n",
        "- Train a 🤖 **DistilBERT** model on a small dataset  \n",
        "- Log and visualize the training process  \n",
        "- Experiment with predictions, metrics, and thresholds  \n",
        "- Discuss ideas to extend or adapt the pipeline\n",
        "\n",
        "💡 The goal isn't just to *run* a model — it's to **understand how it works!**\n",
        "\n",
        "👇 Let’s get started!"
      ],
      "metadata": {
        "id": "6lKsAUqJj6Hp"
      }
    },
    {
      "cell_type": "markdown",
      "source": [
        "# Notebook Setup\n",
        "\n",
        "Cell 1: Install & import dependencies</summary>"
      ],
      "metadata": {
        "id": "rKdgbvq1ZHhY"
      }
    },
    {
      "cell_type": "code",
      "source": [
        "!pip uninstall -y transformers\n",
        "!pip install git+https://github.com/huggingface/transformers.git\n"
      ],
      "metadata": {
        "colab": {
          "base_uri": "https://localhost:8080/",
          "height": 712
        },
        "collapsed": true,
        "id": "5r9pSlyYWosL",
        "outputId": "2b0c9cda-19ae-4e7a-c496-3482258f7070"
      },
      "execution_count": null,
      "outputs": [
        {
          "output_type": "stream",
          "name": "stdout",
          "text": [
            "Found existing installation: transformers 4.52.0.dev0\n",
            "Uninstalling transformers-4.52.0.dev0:\n",
            "  Successfully uninstalled transformers-4.52.0.dev0\n",
            "Collecting git+https://github.com/huggingface/transformers.git\n",
            "  Cloning https://github.com/huggingface/transformers.git to /tmp/pip-req-build-7vdl_iky\n",
            "  Running command git clone --filter=blob:none --quiet https://github.com/huggingface/transformers.git /tmp/pip-req-build-7vdl_iky\n",
            "  Resolved https://github.com/huggingface/transformers.git to commit b6d65e40b256d98d9621707762b94bc8ad83b7a7\n",
            "  Installing build dependencies ... \u001b[?25l\u001b[?25hdone\n",
            "  Getting requirements to build wheel ... \u001b[?25l\u001b[?25hdone\n",
            "  Preparing metadata (pyproject.toml) ... \u001b[?25l\u001b[?25hdone\n",
            "Requirement already satisfied: filelock in /usr/local/lib/python3.11/dist-packages (from transformers==4.52.0.dev0) (3.18.0)\n",
            "Requirement already satisfied: huggingface-hub<1.0,>=0.30.0 in /usr/local/lib/python3.11/dist-packages (from transformers==4.52.0.dev0) (0.30.2)\n",
            "Requirement already satisfied: numpy>=1.17 in /usr/local/lib/python3.11/dist-packages (from transformers==4.52.0.dev0) (2.0.2)\n",
            "Requirement already satisfied: packaging>=20.0 in /usr/local/lib/python3.11/dist-packages (from transformers==4.52.0.dev0) (24.2)\n",
            "Requirement already satisfied: pyyaml>=5.1 in /usr/local/lib/python3.11/dist-packages (from transformers==4.52.0.dev0) (6.0.2)\n",
            "Requirement already satisfied: regex!=2019.12.17 in /usr/local/lib/python3.11/dist-packages (from transformers==4.52.0.dev0) (2024.11.6)\n",
            "Requirement already satisfied: requests in /usr/local/lib/python3.11/dist-packages (from transformers==4.52.0.dev0) (2.32.3)\n",
            "Requirement already satisfied: tokenizers<0.22,>=0.21 in /usr/local/lib/python3.11/dist-packages (from transformers==4.52.0.dev0) (0.21.1)\n",
            "Requirement already satisfied: safetensors>=0.4.3 in /usr/local/lib/python3.11/dist-packages (from transformers==4.52.0.dev0) (0.5.3)\n",
            "Requirement already satisfied: tqdm>=4.27 in /usr/local/lib/python3.11/dist-packages (from transformers==4.52.0.dev0) (4.67.1)\n",
            "Requirement already satisfied: fsspec>=2023.5.0 in /usr/local/lib/python3.11/dist-packages (from huggingface-hub<1.0,>=0.30.0->transformers==4.52.0.dev0) (2025.3.2)\n",
            "Requirement already satisfied: typing-extensions>=3.7.4.3 in /usr/local/lib/python3.11/dist-packages (from huggingface-hub<1.0,>=0.30.0->transformers==4.52.0.dev0) (4.13.2)\n",
            "Requirement already satisfied: charset-normalizer<4,>=2 in /usr/local/lib/python3.11/dist-packages (from requests->transformers==4.52.0.dev0) (3.4.1)\n",
            "Requirement already satisfied: idna<4,>=2.5 in /usr/local/lib/python3.11/dist-packages (from requests->transformers==4.52.0.dev0) (3.10)\n",
            "Requirement already satisfied: urllib3<3,>=1.21.1 in /usr/local/lib/python3.11/dist-packages (from requests->transformers==4.52.0.dev0) (2.3.0)\n",
            "Requirement already satisfied: certifi>=2017.4.17 in /usr/local/lib/python3.11/dist-packages (from requests->transformers==4.52.0.dev0) (2025.1.31)\n",
            "Building wheels for collected packages: transformers\n",
            "  Building wheel for transformers (pyproject.toml) ... \u001b[?25l\u001b[?25hdone\n",
            "  Created wheel for transformers: filename=transformers-4.52.0.dev0-py3-none-any.whl size=11455925 sha256=6357afe8990ec73f2df2df32a79df9d0beb366c782bc057bbc4ca5181265d3af\n",
            "  Stored in directory: /tmp/pip-ephem-wheel-cache-vwoh8b3t/wheels/32/4b/78/f195c684dd3a9ed21f3b39fe8f85b48df7918581b6437be143\n",
            "Successfully built transformers\n",
            "Installing collected packages: transformers\n",
            "Successfully installed transformers-4.52.0.dev0\n"
          ]
        },
        {
          "output_type": "display_data",
          "data": {
            "application/vnd.colab-display-data+json": {
              "pip_warning": {
                "packages": [
                  "transformers"
                ]
              },
              "id": "1ef02c7d8b7a4da296a85edc6f94f3cd"
            }
          },
          "metadata": {}
        }
      ]
    },
    {
      "cell_type": "code",
      "execution_count": null,
      "metadata": {
        "colab": {
          "base_uri": "https://localhost:8080/"
        },
        "collapsed": true,
        "id": "ePIBebbNO7c6",
        "outputId": "1c2fe085-9186-4601-ea45-87ad449f7d36"
      },
      "outputs": [
        {
          "output_type": "stream",
          "name": "stdout",
          "text": [
            "Requirement already satisfied: torch in /usr/local/lib/python3.11/dist-packages (2.6.0+cu124)\n",
            "Collecting sklearn\n",
            "  Using cached sklearn-0.0.post12.tar.gz (2.6 kB)\n",
            "  \u001b[1;31merror\u001b[0m: \u001b[1msubprocess-exited-with-error\u001b[0m\n",
            "  \n",
            "  \u001b[31m×\u001b[0m \u001b[32mpython setup.py egg_info\u001b[0m did not run successfully.\n",
            "  \u001b[31m│\u001b[0m exit code: \u001b[1;36m1\u001b[0m\n",
            "  \u001b[31m╰─>\u001b[0m See above for output.\n",
            "  \n",
            "  \u001b[1;35mnote\u001b[0m: This error originates from a subprocess, and is likely not a problem with pip.\n",
            "  Preparing metadata (setup.py) ... \u001b[?25l\u001b[?25herror\n",
            "\u001b[1;31merror\u001b[0m: \u001b[1mmetadata-generation-failed\u001b[0m\n",
            "\n",
            "\u001b[31m×\u001b[0m Encountered error while generating package metadata.\n",
            "\u001b[31m╰─>\u001b[0m See above for output.\n",
            "\n",
            "\u001b[1;35mnote\u001b[0m: This is an issue with the package mentioned above, not pip.\n",
            "\u001b[1;36mhint\u001b[0m: See above for details.\n"
          ]
        }
      ],
      "source": [
        "!pip install torch sklearn emoji nltk contractions"
      ]
    },
    {
      "cell_type": "code",
      "source": [
        "import transformers\n",
        "print(transformers.__version__)   # should be something like 4.x.dev\n",
        "from transformers import (\n",
        "    DistilBertTokenizerFast,\n",
        "    DistilBertForSequenceClassification,\n",
        "    Trainer,\n",
        "    TrainingArguments,\n",
        "    EarlyStoppingCallback\n",
        ")\n",
        "\n",
        "import pandas as pd\n",
        "import torch\n",
        "import numpy as np\n",
        "from sklearn.model_selection import train_test_split\n",
        "from sklearn.metrics import f1_score, accuracy_score, roc_auc_score\n",
        "from torch import sigmoid\n"
      ],
      "metadata": {
        "colab": {
          "base_uri": "https://localhost:8080/"
        },
        "id": "nypl5wcUTI88",
        "outputId": "c3dc0e2d-1e47-4d3d-cddf-05e6cac0632c"
      },
      "execution_count": null,
      "outputs": [
        {
          "output_type": "stream",
          "name": "stdout",
          "text": [
            "4.52.0.dev0\n"
          ]
        }
      ]
    },
    {
      "cell_type": "code",
      "source": [
        "import nltk\n",
        "nltk.download('stopwords')\n",
        "nltk.download('wordnet')"
      ],
      "metadata": {
        "colab": {
          "base_uri": "https://localhost:8080/"
        },
        "id": "Dq8Fpb64RM-X",
        "outputId": "c61cd219-b096-4767-84bb-c5163ab8147b"
      },
      "execution_count": null,
      "outputs": [
        {
          "output_type": "stream",
          "name": "stderr",
          "text": [
            "[nltk_data] Downloading package stopwords to /root/nltk_data...\n",
            "[nltk_data]   Package stopwords is already up-to-date!\n",
            "[nltk_data] Downloading package wordnet to /root/nltk_data...\n",
            "[nltk_data]   Package wordnet is already up-to-date!\n"
          ]
        },
        {
          "output_type": "execute_result",
          "data": {
            "text/plain": [
              "True"
            ]
          },
          "metadata": {},
          "execution_count": 9
        }
      ]
    },
    {
      "cell_type": "markdown",
      "source": [
        "<details><summary> Why install transformers, emoji, contractions? </summary>\n",
        "They provide the core model code, emoji‐to‐text conversion, and contraction expansion our preprocessing relies on. </details>\n",
        "\n",
        "<details><summary> What happens if we skip NLTK downloads before import? </summary>\n",
        "The stopword/lemmatizer calls will error because the required corpora aren’t present."
      ],
      "metadata": {
        "id": "XfiL6WSSfLev"
      }
    },
    {
      "cell_type": "markdown",
      "source": [
        "# Data Loading & Splits\n",
        "\n",
        "Cell 2: Load your CSV from Drive or upload</summary>\n",
        "\n",
        "1.   Follow this link for the dataset (https://drive.google.com/drive/folders/1RXE-6zdCMa66qisnR7I2btEK0idlr3Io?usp=sharing)\n",
        "\n",
        "2.   Download it\n",
        "3.   Go to Files -> Drag and Drop\n",
        "\n",
        "<details>"
      ],
      "metadata": {
        "id": "7LJn8kN_PwjV"
      }
    },
    {
      "cell_type": "code",
      "source": [
        "import os\n",
        "print(os.listdir('/content'))"
      ],
      "metadata": {
        "colab": {
          "base_uri": "https://localhost:8080/"
        },
        "id": "FxsijEyfQQYo",
        "outputId": "e79c5c3f-9d1f-4e61-8d00-62028ea35521"
      },
      "execution_count": null,
      "outputs": [
        {
          "output_type": "stream",
          "name": "stdout",
          "text": [
            "['.config', 'avottraction_dataset.csv', 'preprocessing.py', '__pycache__', 'sample_data']\n"
          ]
        }
      ]
    },
    {
      "cell_type": "code",
      "source": [
        "df = pd.read_csv('/content/avottraction_dataset.csv')\n",
        "df.head()"
      ],
      "metadata": {
        "colab": {
          "base_uri": "https://localhost:8080/",
          "height": 206
        },
        "id": "FC_PIorlO_O3",
        "outputId": "d53c2fc1-a393-41d9-9437-c98b4de93ca2"
      },
      "execution_count": null,
      "outputs": [
        {
          "output_type": "execute_result",
          "data": {
            "text/plain": [
              "                                                Text  Sexual  Flirty  \\\n",
              "0  Ya know, just angsty songs about how my hometo...       0       0   \n",
              "1           Not that I relate to any of that at all…       0       0   \n",
              "2  And then you get cool guitar riffs that sound ...       0       0   \n",
              "3  All in a weirdly spoken word whine that makes ...       0       0   \n",
              "4  Forget 12 days of Christmas, how about 12 mont...       0       1   \n",
              "\n",
              "   Wordplay  Funny  \n",
              "0         0      0  \n",
              "1         0      1  \n",
              "2         0      1  \n",
              "3         0      1  \n",
              "4         1      0  "
            ],
            "text/html": [
              "\n",
              "  <div id=\"df-bc926074-182b-4ab4-815b-dce480592498\" class=\"colab-df-container\">\n",
              "    <div>\n",
              "<style scoped>\n",
              "    .dataframe tbody tr th:only-of-type {\n",
              "        vertical-align: middle;\n",
              "    }\n",
              "\n",
              "    .dataframe tbody tr th {\n",
              "        vertical-align: top;\n",
              "    }\n",
              "\n",
              "    .dataframe thead th {\n",
              "        text-align: right;\n",
              "    }\n",
              "</style>\n",
              "<table border=\"1\" class=\"dataframe\">\n",
              "  <thead>\n",
              "    <tr style=\"text-align: right;\">\n",
              "      <th></th>\n",
              "      <th>Text</th>\n",
              "      <th>Sexual</th>\n",
              "      <th>Flirty</th>\n",
              "      <th>Wordplay</th>\n",
              "      <th>Funny</th>\n",
              "    </tr>\n",
              "  </thead>\n",
              "  <tbody>\n",
              "    <tr>\n",
              "      <th>0</th>\n",
              "      <td>Ya know, just angsty songs about how my hometo...</td>\n",
              "      <td>0</td>\n",
              "      <td>0</td>\n",
              "      <td>0</td>\n",
              "      <td>0</td>\n",
              "    </tr>\n",
              "    <tr>\n",
              "      <th>1</th>\n",
              "      <td>Not that I relate to any of that at all…</td>\n",
              "      <td>0</td>\n",
              "      <td>0</td>\n",
              "      <td>0</td>\n",
              "      <td>1</td>\n",
              "    </tr>\n",
              "    <tr>\n",
              "      <th>2</th>\n",
              "      <td>And then you get cool guitar riffs that sound ...</td>\n",
              "      <td>0</td>\n",
              "      <td>0</td>\n",
              "      <td>0</td>\n",
              "      <td>1</td>\n",
              "    </tr>\n",
              "    <tr>\n",
              "      <th>3</th>\n",
              "      <td>All in a weirdly spoken word whine that makes ...</td>\n",
              "      <td>0</td>\n",
              "      <td>0</td>\n",
              "      <td>0</td>\n",
              "      <td>1</td>\n",
              "    </tr>\n",
              "    <tr>\n",
              "      <th>4</th>\n",
              "      <td>Forget 12 days of Christmas, how about 12 mont...</td>\n",
              "      <td>0</td>\n",
              "      <td>1</td>\n",
              "      <td>1</td>\n",
              "      <td>0</td>\n",
              "    </tr>\n",
              "  </tbody>\n",
              "</table>\n",
              "</div>\n",
              "    <div class=\"colab-df-buttons\">\n",
              "\n",
              "  <div class=\"colab-df-container\">\n",
              "    <button class=\"colab-df-convert\" onclick=\"convertToInteractive('df-bc926074-182b-4ab4-815b-dce480592498')\"\n",
              "            title=\"Convert this dataframe to an interactive table.\"\n",
              "            style=\"display:none;\">\n",
              "\n",
              "  <svg xmlns=\"http://www.w3.org/2000/svg\" height=\"24px\" viewBox=\"0 -960 960 960\">\n",
              "    <path d=\"M120-120v-720h720v720H120Zm60-500h600v-160H180v160Zm220 220h160v-160H400v160Zm0 220h160v-160H400v160ZM180-400h160v-160H180v160Zm440 0h160v-160H620v160ZM180-180h160v-160H180v160Zm440 0h160v-160H620v160Z\"/>\n",
              "  </svg>\n",
              "    </button>\n",
              "\n",
              "  <style>\n",
              "    .colab-df-container {\n",
              "      display:flex;\n",
              "      gap: 12px;\n",
              "    }\n",
              "\n",
              "    .colab-df-convert {\n",
              "      background-color: #E8F0FE;\n",
              "      border: none;\n",
              "      border-radius: 50%;\n",
              "      cursor: pointer;\n",
              "      display: none;\n",
              "      fill: #1967D2;\n",
              "      height: 32px;\n",
              "      padding: 0 0 0 0;\n",
              "      width: 32px;\n",
              "    }\n",
              "\n",
              "    .colab-df-convert:hover {\n",
              "      background-color: #E2EBFA;\n",
              "      box-shadow: 0px 1px 2px rgba(60, 64, 67, 0.3), 0px 1px 3px 1px rgba(60, 64, 67, 0.15);\n",
              "      fill: #174EA6;\n",
              "    }\n",
              "\n",
              "    .colab-df-buttons div {\n",
              "      margin-bottom: 4px;\n",
              "    }\n",
              "\n",
              "    [theme=dark] .colab-df-convert {\n",
              "      background-color: #3B4455;\n",
              "      fill: #D2E3FC;\n",
              "    }\n",
              "\n",
              "    [theme=dark] .colab-df-convert:hover {\n",
              "      background-color: #434B5C;\n",
              "      box-shadow: 0px 1px 3px 1px rgba(0, 0, 0, 0.15);\n",
              "      filter: drop-shadow(0px 1px 2px rgba(0, 0, 0, 0.3));\n",
              "      fill: #FFFFFF;\n",
              "    }\n",
              "  </style>\n",
              "\n",
              "    <script>\n",
              "      const buttonEl =\n",
              "        document.querySelector('#df-bc926074-182b-4ab4-815b-dce480592498 button.colab-df-convert');\n",
              "      buttonEl.style.display =\n",
              "        google.colab.kernel.accessAllowed ? 'block' : 'none';\n",
              "\n",
              "      async function convertToInteractive(key) {\n",
              "        const element = document.querySelector('#df-bc926074-182b-4ab4-815b-dce480592498');\n",
              "        const dataTable =\n",
              "          await google.colab.kernel.invokeFunction('convertToInteractive',\n",
              "                                                    [key], {});\n",
              "        if (!dataTable) return;\n",
              "\n",
              "        const docLinkHtml = 'Like what you see? Visit the ' +\n",
              "          '<a target=\"_blank\" href=https://colab.research.google.com/notebooks/data_table.ipynb>data table notebook</a>'\n",
              "          + ' to learn more about interactive tables.';\n",
              "        element.innerHTML = '';\n",
              "        dataTable['output_type'] = 'display_data';\n",
              "        await google.colab.output.renderOutput(dataTable, element);\n",
              "        const docLink = document.createElement('div');\n",
              "        docLink.innerHTML = docLinkHtml;\n",
              "        element.appendChild(docLink);\n",
              "      }\n",
              "    </script>\n",
              "  </div>\n",
              "\n",
              "\n",
              "<div id=\"df-f8f6473f-4e0d-4616-83f1-3a96161e854b\">\n",
              "  <button class=\"colab-df-quickchart\" onclick=\"quickchart('df-f8f6473f-4e0d-4616-83f1-3a96161e854b')\"\n",
              "            title=\"Suggest charts\"\n",
              "            style=\"display:none;\">\n",
              "\n",
              "<svg xmlns=\"http://www.w3.org/2000/svg\" height=\"24px\"viewBox=\"0 0 24 24\"\n",
              "     width=\"24px\">\n",
              "    <g>\n",
              "        <path d=\"M19 3H5c-1.1 0-2 .9-2 2v14c0 1.1.9 2 2 2h14c1.1 0 2-.9 2-2V5c0-1.1-.9-2-2-2zM9 17H7v-7h2v7zm4 0h-2V7h2v10zm4 0h-2v-4h2v4z\"/>\n",
              "    </g>\n",
              "</svg>\n",
              "  </button>\n",
              "\n",
              "<style>\n",
              "  .colab-df-quickchart {\n",
              "      --bg-color: #E8F0FE;\n",
              "      --fill-color: #1967D2;\n",
              "      --hover-bg-color: #E2EBFA;\n",
              "      --hover-fill-color: #174EA6;\n",
              "      --disabled-fill-color: #AAA;\n",
              "      --disabled-bg-color: #DDD;\n",
              "  }\n",
              "\n",
              "  [theme=dark] .colab-df-quickchart {\n",
              "      --bg-color: #3B4455;\n",
              "      --fill-color: #D2E3FC;\n",
              "      --hover-bg-color: #434B5C;\n",
              "      --hover-fill-color: #FFFFFF;\n",
              "      --disabled-bg-color: #3B4455;\n",
              "      --disabled-fill-color: #666;\n",
              "  }\n",
              "\n",
              "  .colab-df-quickchart {\n",
              "    background-color: var(--bg-color);\n",
              "    border: none;\n",
              "    border-radius: 50%;\n",
              "    cursor: pointer;\n",
              "    display: none;\n",
              "    fill: var(--fill-color);\n",
              "    height: 32px;\n",
              "    padding: 0;\n",
              "    width: 32px;\n",
              "  }\n",
              "\n",
              "  .colab-df-quickchart:hover {\n",
              "    background-color: var(--hover-bg-color);\n",
              "    box-shadow: 0 1px 2px rgba(60, 64, 67, 0.3), 0 1px 3px 1px rgba(60, 64, 67, 0.15);\n",
              "    fill: var(--button-hover-fill-color);\n",
              "  }\n",
              "\n",
              "  .colab-df-quickchart-complete:disabled,\n",
              "  .colab-df-quickchart-complete:disabled:hover {\n",
              "    background-color: var(--disabled-bg-color);\n",
              "    fill: var(--disabled-fill-color);\n",
              "    box-shadow: none;\n",
              "  }\n",
              "\n",
              "  .colab-df-spinner {\n",
              "    border: 2px solid var(--fill-color);\n",
              "    border-color: transparent;\n",
              "    border-bottom-color: var(--fill-color);\n",
              "    animation:\n",
              "      spin 1s steps(1) infinite;\n",
              "  }\n",
              "\n",
              "  @keyframes spin {\n",
              "    0% {\n",
              "      border-color: transparent;\n",
              "      border-bottom-color: var(--fill-color);\n",
              "      border-left-color: var(--fill-color);\n",
              "    }\n",
              "    20% {\n",
              "      border-color: transparent;\n",
              "      border-left-color: var(--fill-color);\n",
              "      border-top-color: var(--fill-color);\n",
              "    }\n",
              "    30% {\n",
              "      border-color: transparent;\n",
              "      border-left-color: var(--fill-color);\n",
              "      border-top-color: var(--fill-color);\n",
              "      border-right-color: var(--fill-color);\n",
              "    }\n",
              "    40% {\n",
              "      border-color: transparent;\n",
              "      border-right-color: var(--fill-color);\n",
              "      border-top-color: var(--fill-color);\n",
              "    }\n",
              "    60% {\n",
              "      border-color: transparent;\n",
              "      border-right-color: var(--fill-color);\n",
              "    }\n",
              "    80% {\n",
              "      border-color: transparent;\n",
              "      border-right-color: var(--fill-color);\n",
              "      border-bottom-color: var(--fill-color);\n",
              "    }\n",
              "    90% {\n",
              "      border-color: transparent;\n",
              "      border-bottom-color: var(--fill-color);\n",
              "    }\n",
              "  }\n",
              "</style>\n",
              "\n",
              "  <script>\n",
              "    async function quickchart(key) {\n",
              "      const quickchartButtonEl =\n",
              "        document.querySelector('#' + key + ' button');\n",
              "      quickchartButtonEl.disabled = true;  // To prevent multiple clicks.\n",
              "      quickchartButtonEl.classList.add('colab-df-spinner');\n",
              "      try {\n",
              "        const charts = await google.colab.kernel.invokeFunction(\n",
              "            'suggestCharts', [key], {});\n",
              "      } catch (error) {\n",
              "        console.error('Error during call to suggestCharts:', error);\n",
              "      }\n",
              "      quickchartButtonEl.classList.remove('colab-df-spinner');\n",
              "      quickchartButtonEl.classList.add('colab-df-quickchart-complete');\n",
              "    }\n",
              "    (() => {\n",
              "      let quickchartButtonEl =\n",
              "        document.querySelector('#df-f8f6473f-4e0d-4616-83f1-3a96161e854b button');\n",
              "      quickchartButtonEl.style.display =\n",
              "        google.colab.kernel.accessAllowed ? 'block' : 'none';\n",
              "    })();\n",
              "  </script>\n",
              "</div>\n",
              "\n",
              "    </div>\n",
              "  </div>\n"
            ],
            "application/vnd.google.colaboratory.intrinsic+json": {
              "type": "dataframe",
              "variable_name": "df",
              "summary": "{\n  \"name\": \"df\",\n  \"rows\": 9981,\n  \"fields\": [\n    {\n      \"column\": \"Text\",\n      \"properties\": {\n        \"dtype\": \"string\",\n        \"num_unique_values\": 9637,\n        \"samples\": [\n          \"Well, at least it's a step in the right direction. Thank you for taking it.\",\n          \"What brings you here?\",\n          \"True, I've been off-topic. But I insist that, by logic, protestors who perceive China as a dictatorship is not the equlivalent, or represent, anti-dictatorial protestors (I've never even heard of such a thing - sounds more like political framing). Would those who protest the perceived dictatorship in Saudi Arabia go on to protest against China? Rarely. Anti-dictatorial is not a single classification - it should not even be a classification, in my opinion. I would suggest a more lengthy wording - e.g. supporters who call for more individual freedom in China.\"\n        ],\n        \"semantic_type\": \"\",\n        \"description\": \"\"\n      }\n    },\n    {\n      \"column\": \"Sexual\",\n      \"properties\": {\n        \"dtype\": \"number\",\n        \"std\": 0,\n        \"min\": 0,\n        \"max\": 1,\n        \"num_unique_values\": 2,\n        \"samples\": [\n          1,\n          0\n        ],\n        \"semantic_type\": \"\",\n        \"description\": \"\"\n      }\n    },\n    {\n      \"column\": \"Flirty\",\n      \"properties\": {\n        \"dtype\": \"number\",\n        \"std\": 0,\n        \"min\": 0,\n        \"max\": 1,\n        \"num_unique_values\": 2,\n        \"samples\": [\n          1,\n          0\n        ],\n        \"semantic_type\": \"\",\n        \"description\": \"\"\n      }\n    },\n    {\n      \"column\": \"Wordplay\",\n      \"properties\": {\n        \"dtype\": \"number\",\n        \"std\": 0,\n        \"min\": 0,\n        \"max\": 1,\n        \"num_unique_values\": 2,\n        \"samples\": [\n          1,\n          0\n        ],\n        \"semantic_type\": \"\",\n        \"description\": \"\"\n      }\n    },\n    {\n      \"column\": \"Funny\",\n      \"properties\": {\n        \"dtype\": \"number\",\n        \"std\": 0,\n        \"min\": 0,\n        \"max\": 1,\n        \"num_unique_values\": 2,\n        \"samples\": [\n          1,\n          0\n        ],\n        \"semantic_type\": \"\",\n        \"description\": \"\"\n      }\n    }\n  ]\n}"
            }
          },
          "metadata": {},
          "execution_count": 11
        }
      ]
    },
    {
      "cell_type": "markdown",
      "source": [
        "Cell 3: Train / Validation / Test split</summary>"
      ],
      "metadata": {
        "id": "PESeEj3BaTGw"
      }
    },
    {
      "cell_type": "code",
      "source": [
        "# texts and multi-label targets\n",
        "X = df[\"Text\"].fillna(\"\").tolist()\n",
        "y = df[[\"Sexual\",\"Flirty\",\"Wordplay\",\"Funny\"]].values\n",
        "\n",
        "# 15% hold-out test\n",
        "X_train_temp, X_test, y_train_temp, y_test = train_test_split(\n",
        "    X, y, test_size=0.15, random_state=42\n",
        ")\n",
        "\n",
        "# ~15% of full data → validation\n",
        "X_train, X_val, y_train, y_val = train_test_split(\n",
        "    X_train_temp, y_train_temp, test_size=0.176647, random_state=42\n",
        ")\n",
        "\n",
        "print(f\"Train: {len(X_train)}, Val: {len(X_val)}, Test: {len(X_test)}\")"
      ],
      "metadata": {
        "colab": {
          "base_uri": "https://localhost:8080/"
        },
        "id": "Wp1gwV5eQHzJ",
        "outputId": "b42ef6bb-4ae8-4e27-c09e-8154832ece63"
      },
      "execution_count": null,
      "outputs": [
        {
          "output_type": "stream",
          "name": "stdout",
          "text": [
            "Train: 6984, Val: 1499, Test: 1498\n"
          ]
        }
      ]
    },
    {
      "cell_type": "markdown",
      "source": [
        "</details> <details> <summary>Why separate train/val/test?</summary>\n",
        "To train on one set, tune hyperparameters on another, and get an unbiased final performance estimate.\n",
        "\n",
        "</details> <details> <summary>Why 70/15/15 and random_state=42?</summary>\n",
        "It’s a common balance; the fixed seed ensures reproducible splits for everyone."
      ],
      "metadata": {
        "id": "V-q0RAOtfrUS"
      }
    },
    {
      "cell_type": "markdown",
      "source": [
        "# Preprocessing\n",
        "\n",
        "Cell 4: Define & apply your TextProcessor</summary>"
      ],
      "metadata": {
        "id": "73aImG5MaYws"
      }
    },
    {
      "cell_type": "code",
      "source": [
        "from preprocessing import TextProcessor, preprocess_text\n",
        "\n",
        "processor      = TextProcessor(preprocess_func=preprocess_text)\n",
        "X_train_clean  = processor.transform(pd.Series(X_train)).tolist()\n",
        "X_val_clean    = processor.transform(pd.Series(X_val)).tolist()"
      ],
      "metadata": {
        "colab": {
          "base_uri": "https://localhost:8080/"
        },
        "id": "nvbx1CSWQ1gP",
        "outputId": "aca56def-3a09-4127-c229-76117b4cf3e4"
      },
      "execution_count": null,
      "outputs": [
        {
          "output_type": "stream",
          "name": "stderr",
          "text": [
            "[nltk_data] Downloading package stopwords to /root/nltk_data...\n",
            "[nltk_data]   Package stopwords is already up-to-date!\n",
            "[nltk_data] Downloading package wordnet to /root/nltk_data...\n",
            "[nltk_data]   Package wordnet is already up-to-date!\n"
          ]
        }
      ]
    },
    {
      "cell_type": "markdown",
      "source": [
        "Tip: you can print a few examples to see how the cleaner works."
      ],
      "metadata": {
        "id": "3Y_kYts5ap9P"
      }
    },
    {
      "cell_type": "code",
      "source": [
        "preprocess_text(\"hello\")"
      ],
      "metadata": {
        "id": "NTQgEdVOasL1"
      },
      "execution_count": null,
      "outputs": []
    },
    {
      "cell_type": "markdown",
      "source": [
        "<details> <summary>Why lowercase, strip URLs/emails, demojize?</summary>\n",
        "To reduce vocabulary size and normalize text for the model.</details>\n",
        "\n",
        "<details> <summary>How do stop‐word removal and lemmatization help?</summary>\n",
        "They remove filler tokens and collapse word forms, focusing learning on meaningful roots."
      ],
      "metadata": {
        "id": "pzLXkCARgpcD"
      }
    },
    {
      "cell_type": "markdown",
      "source": [
        "# Tokenization & Dataset\n",
        "\n",
        "Cell 5: Tokenize with DistilBERT</summary>"
      ],
      "metadata": {
        "id": "CHuPKmk6bI_X"
      }
    },
    {
      "cell_type": "code",
      "source": [
        "tokenizer = DistilBertTokenizerFast.from_pretrained('distilbert-base-uncased')\n",
        "\n",
        "train_encodings = tokenizer(X_train_clean, truncation=True, padding=True, max_length=128)\n",
        "val_encodings   = tokenizer(X_val_clean,   truncation=True, padding=True, max_length=128)\n"
      ],
      "metadata": {
        "id": "nend23NjQ5Dw"
      },
      "execution_count": null,
      "outputs": []
    },
    {
      "cell_type": "markdown",
      "source": [
        "Cell 6: Wrap into a PyTorch Dataset</summary>"
      ],
      "metadata": {
        "id": "Ec1wwMsEbRTt"
      }
    },
    {
      "cell_type": "code",
      "source": [
        "class AvoDataset(torch.utils.data.Dataset):\n",
        "    def __init__(self, encodings, labels):\n",
        "        self.encodings = encodings\n",
        "        self.labels = labels.astype(float)\n",
        "    def __getitem__(self, idx):\n",
        "        item = {k: torch.tensor(v[idx]) for k,v in self.encodings.items()}\n",
        "        item['labels'] = torch.tensor(self.labels[idx])\n",
        "        return item\n",
        "    def __len__(self):\n",
        "        return len(self.labels)\n",
        "\n",
        "train_ds = AvoDataset(train_encodings, y_train)\n",
        "val_ds   = AvoDataset(val_encodings,   y_val)\n"
      ],
      "metadata": {
        "id": "FliLmk0yRYOV"
      },
      "execution_count": null,
      "outputs": []
    },
    {
      "cell_type": "markdown",
      "source": [
        "<details> <summary>What if the tokenizer sees an unknown word?</summary>\n",
        "It breaks it into subword pieces or uses an [UNK] token. </details>\n",
        "\n",
        "<details> <summary>Why max_length=128 and what if text is longer?</summary>\n",
        "It caps sequence size for memory reasons; longer text is truncated to fit."
      ],
      "metadata": {
        "id": "JFI45cTQhCTN"
      }
    },
    {
      "cell_type": "markdown",
      "source": [
        "# Model & Trainer\n",
        "Cell 7: Load model & send to GPU/CPU</summary>"
      ],
      "metadata": {
        "id": "fGdIPIE2bWuj"
      }
    },
    {
      "cell_type": "code",
      "source": [
        "device = torch.device(\"cuda\" if torch.cuda.is_available() else \"cpu\")\n",
        "\n",
        "model = DistilBertForSequenceClassification.from_pretrained(\n",
        "    'distilbert-base-uncased',\n",
        "    num_labels=4,\n",
        "    problem_type=\"multi_label_classification\"\n",
        ").to(device)\n"
      ],
      "metadata": {
        "colab": {
          "base_uri": "https://localhost:8080/"
        },
        "id": "joZGgIsQRb1B",
        "outputId": "0576f24d-d8f4-47d4-dbac-8aa78b28bf32"
      },
      "execution_count": null,
      "outputs": [
        {
          "output_type": "stream",
          "name": "stderr",
          "text": [
            "Some weights of DistilBertForSequenceClassification were not initialized from the model checkpoint at distilbert-base-uncased and are newly initialized: ['classifier.bias', 'classifier.weight', 'pre_classifier.bias', 'pre_classifier.weight']\n",
            "You should probably TRAIN this model on a down-stream task to be able to use it for predictions and inference.\n"
          ]
        }
      ]
    },
    {
      "cell_type": "markdown",
      "source": [
        "Cell 8: Define compute_metrics</summary>\n",
        "\n"
      ],
      "metadata": {
        "id": "dF41QgMRbdY3"
      }
    },
    {
      "cell_type": "code",
      "source": [
        "best_thresholds = [0.5]*4\n",
        "\n",
        "def compute_metrics(pred):\n",
        "    logits = torch.tensor(pred.predictions)\n",
        "    probs  = sigmoid(logits).cpu().numpy()\n",
        "    y_preds = np.stack([\n",
        "        (probs[:,i] >= best_thresholds[i]).astype(int)\n",
        "        for i in range(probs.shape[1])\n",
        "    ], axis=1)\n",
        "    y_true = pred.label_ids\n",
        "    return {\n",
        "        \"accuracy\":  (y_preds==y_true).all(axis=1).mean(),\n",
        "        \"f1_macro\":  f1_score(y_true, y_preds, average=\"macro\"),\n",
        "        \"roc_auc\":   roc_auc_score(y_true, probs)\n",
        "    }\n"
      ],
      "metadata": {
        "id": "CKOBdpzaReIz"
      },
      "execution_count": null,
      "outputs": []
    },
    {
      "cell_type": "markdown",
      "source": [
        "<details><summary>What does problem_type=\"multi_label_classification\" do?</summary>\n",
        "It switches the loss to BCEWithLogitsLoss so each label is predicted independently.</details>\n",
        "<details><summary>Why use DistilBERT instead of full BERT?</summary>\n",
        "It’s smaller and faster, trading a bit of accuracy for speed.\n"
      ],
      "metadata": {
        "id": "lDo396YmhYu9"
      }
    },
    {
      "cell_type": "markdown",
      "source": [
        "# TrainingArguments & Training Loop\n",
        "Cell 9: TrainingArguments & Trainer</summary>"
      ],
      "metadata": {
        "id": "0Iq3KICTbq93"
      }
    },
    {
      "cell_type": "code",
      "source": [
        "# args = TrainingArguments(\n",
        "#     output_dir='results',\n",
        "#     num_train_epochs=5,\n",
        "#     per_device_train_batch_size=16,\n",
        "#     per_device_eval_batch_size=64,\n",
        "#     evaluation_strategy='epoch',\n",
        "#     save_strategy='epoch',\n",
        "#     logging_dir='./logs',\n",
        "#     logging_steps=10,\n",
        "#     load_best_model_at_end=True,\n",
        "#     metric_for_best_model='f1_macro',\n",
        "#     learning_rate=2e-5,\n",
        "#     weight_decay=0.01,\n",
        "# )\n",
        "\n",
        "# 1) subsample\n",
        "from torch.utils.data import Subset\n",
        "small_train = Subset(train_ds, range(200))\n",
        "small_val   = Subset(val_ds,   range(50))\n",
        "\n",
        "\n",
        "\n",
        "args = TrainingArguments(\n",
        "    output_dir=\"demo\",\n",
        "    per_device_train_batch_size=32,\n",
        "    num_train_epochs=1,   # just 1 pass (and we'll cut it at 20 steps anyway)\n",
        "    max_steps=20,\n",
        "    do_train=True,\n",
        "    do_eval=False,        # skip mid‐training eval\n",
        "    logging_steps=1,\n",
        "    save_steps=20,        # only save at the end\n",
        ")\n",
        "\n",
        "trainer = Trainer(\n",
        "    model=model,\n",
        "    args=args,\n",
        "    # train_dataset=train_ds,\n",
        "    # eval_dataset=val_ds,\n",
        "    compute_metrics=compute_metrics,\n",
        "    train_dataset=small_train,\n",
        "    eval_dataset=small_val,\n",
        "    # callbacks=[EarlyStoppingCallback(early_stopping_patience=3)]\n",
        ")\n",
        "\n",
        "trainer.train()\n"
      ],
      "metadata": {
        "colab": {
          "base_uri": "https://localhost:8080/",
          "height": 738
        },
        "id": "Xf3LaL15RhcA",
        "outputId": "773910c8-5c0b-4a9a-c886-3ac0de57bebe"
      },
      "execution_count": null,
      "outputs": [
        {
          "output_type": "display_data",
          "data": {
            "text/plain": [
              "<IPython.core.display.HTML object>"
            ],
            "text/html": [
              "\n",
              "    <div>\n",
              "      \n",
              "      <progress value='20' max='20' style='width:300px; height:20px; vertical-align: middle;'></progress>\n",
              "      [20/20 07:55, Epoch 2/3]\n",
              "    </div>\n",
              "    <table border=\"1\" class=\"dataframe\">\n",
              "  <thead>\n",
              " <tr style=\"text-align: left;\">\n",
              "      <th>Step</th>\n",
              "      <th>Training Loss</th>\n",
              "    </tr>\n",
              "  </thead>\n",
              "  <tbody>\n",
              "    <tr>\n",
              "      <td>1</td>\n",
              "      <td>0.295900</td>\n",
              "    </tr>\n",
              "    <tr>\n",
              "      <td>2</td>\n",
              "      <td>0.251900</td>\n",
              "    </tr>\n",
              "    <tr>\n",
              "      <td>3</td>\n",
              "      <td>0.249000</td>\n",
              "    </tr>\n",
              "    <tr>\n",
              "      <td>4</td>\n",
              "      <td>0.282700</td>\n",
              "    </tr>\n",
              "    <tr>\n",
              "      <td>5</td>\n",
              "      <td>0.261300</td>\n",
              "    </tr>\n",
              "    <tr>\n",
              "      <td>6</td>\n",
              "      <td>0.303900</td>\n",
              "    </tr>\n",
              "    <tr>\n",
              "      <td>7</td>\n",
              "      <td>0.241700</td>\n",
              "    </tr>\n",
              "    <tr>\n",
              "      <td>8</td>\n",
              "      <td>0.291000</td>\n",
              "    </tr>\n",
              "    <tr>\n",
              "      <td>9</td>\n",
              "      <td>0.247900</td>\n",
              "    </tr>\n",
              "    <tr>\n",
              "      <td>10</td>\n",
              "      <td>0.212000</td>\n",
              "    </tr>\n",
              "    <tr>\n",
              "      <td>11</td>\n",
              "      <td>0.166900</td>\n",
              "    </tr>\n",
              "    <tr>\n",
              "      <td>12</td>\n",
              "      <td>0.268000</td>\n",
              "    </tr>\n",
              "    <tr>\n",
              "      <td>13</td>\n",
              "      <td>0.155100</td>\n",
              "    </tr>\n",
              "    <tr>\n",
              "      <td>14</td>\n",
              "      <td>0.429000</td>\n",
              "    </tr>\n",
              "    <tr>\n",
              "      <td>15</td>\n",
              "      <td>0.179500</td>\n",
              "    </tr>\n",
              "    <tr>\n",
              "      <td>16</td>\n",
              "      <td>0.162000</td>\n",
              "    </tr>\n",
              "    <tr>\n",
              "      <td>17</td>\n",
              "      <td>0.198600</td>\n",
              "    </tr>\n",
              "    <tr>\n",
              "      <td>18</td>\n",
              "      <td>0.271500</td>\n",
              "    </tr>\n",
              "    <tr>\n",
              "      <td>19</td>\n",
              "      <td>0.240500</td>\n",
              "    </tr>\n",
              "    <tr>\n",
              "      <td>20</td>\n",
              "      <td>0.212900</td>\n",
              "    </tr>\n",
              "  </tbody>\n",
              "</table><p>"
            ]
          },
          "metadata": {}
        },
        {
          "output_type": "execute_result",
          "data": {
            "text/plain": [
              "TrainOutput(global_step=20, training_loss=0.24605508745735277, metrics={'train_runtime': 496.6632, 'train_samples_per_second': 1.289, 'train_steps_per_second': 0.04, 'total_flos': 19605874262016.0, 'train_loss': 0.24605508745735277, 'epoch': 2.857142857142857})"
            ]
          },
          "metadata": {},
          "execution_count": 25
        }
      ]
    },
    {
      "cell_type": "markdown",
      "source": [
        "<details><summary>How do batch size and learning rate interact?</summary>\n",
        "Larger batches can tolerate a higher learning rate; smaller batches often need a lower one.</details>\n",
        "<details><summary>What’s the trade-off of frequent eval/checkpoint vs. speed?</summary>\n",
        "More frequent means finer monitoring but slower overall training."
      ],
      "metadata": {
        "id": "S2IZDdoih62s"
      }
    },
    {
      "cell_type": "markdown",
      "source": [
        "# Threshold Optimization\n",
        "Cell 10: Find best per-label thresholds</summary>"
      ],
      "metadata": {
        "id": "ynYwDffPb57b"
      }
    },
    {
      "cell_type": "code",
      "source": [
        "val_logits = trainer.predict(val_ds).predictions\n",
        "val_probs  = sigmoid(torch.tensor(val_logits)).numpy()\n",
        "\n",
        "best_thresholds = []\n",
        "for i in range(y_val.shape[1]):\n",
        "    best_f1, best_t = 0, 0.1\n",
        "    for t in np.arange(0.1, 0.7, 0.05):\n",
        "        preds = (val_probs[:,i] >= t).astype(int)\n",
        "        f1 = f1_score(y_val[:,i], preds)\n",
        "        if f1 > best_f1:\n",
        "            best_f1, best_t = f1, t\n",
        "    best_thresholds.append(best_t)\n",
        "\n",
        "print(\"Best thresholds:\", best_thresholds)\n"
      ],
      "metadata": {
        "colab": {
          "base_uri": "https://localhost:8080/",
          "height": 35
        },
        "id": "DXvy7JprXyWB",
        "outputId": "f80df8f8-0941-414a-c53f-26dfa73180ae"
      },
      "execution_count": null,
      "outputs": [
        {
          "output_type": "display_data",
          "data": {
            "text/plain": [
              "<IPython.core.display.HTML object>"
            ],
            "text/html": []
          },
          "metadata": {}
        },
        {
          "output_type": "stream",
          "name": "stdout",
          "text": [
            "Best thresholds: [np.float64(0.1), np.float64(0.20000000000000004), np.float64(0.25000000000000006), np.float64(0.1)]\n"
          ]
        }
      ]
    },
    {
      "cell_type": "markdown",
      "source": [
        "<details><summary>Why not threshold all labels at 0.5?</summary>\n",
        "Different labels have different score distributions; tuning maximizes F1 for each.</details>\n",
        "\n",
        "<details><summary>How do precision and recall shift with threshold?</summary>\n",
        "Higher threshold → higher precision, lower recall; lower threshold flips that."
      ],
      "metadata": {
        "id": "_DAjP6ediPcM"
      }
    },
    {
      "cell_type": "markdown",
      "source": [
        "# Evaluation & Interaction\n",
        "Cell 11: Evaluate on the test set</summary>"
      ],
      "metadata": {
        "id": "Eei927AScBvq"
      }
    },
    {
      "cell_type": "code",
      "source": [
        "# Clean the raw X_test texts\n",
        "X_test_clean = processor.transform(pd.Series(X_test)).tolist()\n",
        "\n",
        "# Tokenize\n",
        "test_encodings = tokenizer(\n",
        "    X_test_clean,\n",
        "    truncation=True,\n",
        "    padding=True,\n",
        "    max_length=128\n",
        ")\n",
        "test_ds = AvoDataset(test_encodings, y_test)\n",
        "\n",
        "# Evaluate\n",
        "test_metrics = trainer.evaluate(test_ds)\n",
        "print(\"Test set performance:\", test_metrics)"
      ],
      "metadata": {
        "colab": {
          "base_uri": "https://localhost:8080/",
          "height": 75
        },
        "id": "wVrBnhgxgNaR",
        "outputId": "13e48062-77ab-4f7f-c94d-86dfb06bf773"
      },
      "execution_count": null,
      "outputs": [
        {
          "output_type": "display_data",
          "data": {
            "text/plain": [
              "<IPython.core.display.HTML object>"
            ],
            "text/html": [
              "\n",
              "    <div>\n",
              "      \n",
              "      <progress value='188' max='188' style='width:300px; height:20px; vertical-align: middle;'></progress>\n",
              "      [188/188 06:35]\n",
              "    </div>\n",
              "    "
            ]
          },
          "metadata": {}
        },
        {
          "output_type": "stream",
          "name": "stdout",
          "text": [
            "Test set performance: {'eval_loss': 0.2810776269116821, 'eval_accuracy': 0.6755674232309746, 'eval_f1_macro': 0.5091204485033162, 'eval_roc_auc': 0.8226520150426914, 'eval_runtime': 402.1702, 'eval_samples_per_second': 3.725, 'eval_steps_per_second': 0.467, 'epoch': 2.857142857142857}\n"
          ]
        }
      ]
    },
    {
      "cell_type": "markdown",
      "source": [
        "Cell 12: Interactive threshold tuning</summary>"
      ],
      "metadata": {
        "id": "DEtpNbAycKu3"
      }
    },
    {
      "cell_type": "code",
      "source": [
        "!pip install ipywidgets"
      ],
      "metadata": {
        "colab": {
          "base_uri": "https://localhost:8080/"
        },
        "collapsed": true,
        "id": "xRXrbA14Yimm",
        "outputId": "0be074e6-f4de-4ad7-cb86-6e74217c10ca"
      },
      "execution_count": null,
      "outputs": [
        {
          "output_type": "stream",
          "name": "stdout",
          "text": [
            "Requirement already satisfied: ipywidgets in /usr/local/lib/python3.11/dist-packages (7.7.1)\n",
            "Requirement already satisfied: ipykernel>=4.5.1 in /usr/local/lib/python3.11/dist-packages (from ipywidgets) (6.17.1)\n",
            "Requirement already satisfied: ipython-genutils~=0.2.0 in /usr/local/lib/python3.11/dist-packages (from ipywidgets) (0.2.0)\n",
            "Requirement already satisfied: traitlets>=4.3.1 in /usr/local/lib/python3.11/dist-packages (from ipywidgets) (5.7.1)\n",
            "Requirement already satisfied: widgetsnbextension~=3.6.0 in /usr/local/lib/python3.11/dist-packages (from ipywidgets) (3.6.10)\n",
            "Requirement already satisfied: ipython>=4.0.0 in /usr/local/lib/python3.11/dist-packages (from ipywidgets) (7.34.0)\n",
            "Requirement already satisfied: jupyterlab-widgets>=1.0.0 in /usr/local/lib/python3.11/dist-packages (from ipywidgets) (3.0.14)\n",
            "Requirement already satisfied: debugpy>=1.0 in /usr/local/lib/python3.11/dist-packages (from ipykernel>=4.5.1->ipywidgets) (1.8.0)\n",
            "Requirement already satisfied: jupyter-client>=6.1.12 in /usr/local/lib/python3.11/dist-packages (from ipykernel>=4.5.1->ipywidgets) (6.1.12)\n",
            "Requirement already satisfied: matplotlib-inline>=0.1 in /usr/local/lib/python3.11/dist-packages (from ipykernel>=4.5.1->ipywidgets) (0.1.7)\n",
            "Requirement already satisfied: nest-asyncio in /usr/local/lib/python3.11/dist-packages (from ipykernel>=4.5.1->ipywidgets) (1.6.0)\n",
            "Requirement already satisfied: packaging in /usr/local/lib/python3.11/dist-packages (from ipykernel>=4.5.1->ipywidgets) (24.2)\n",
            "Requirement already satisfied: psutil in /usr/local/lib/python3.11/dist-packages (from ipykernel>=4.5.1->ipywidgets) (5.9.5)\n",
            "Requirement already satisfied: pyzmq>=17 in /usr/local/lib/python3.11/dist-packages (from ipykernel>=4.5.1->ipywidgets) (24.0.1)\n",
            "Requirement already satisfied: tornado>=6.1 in /usr/local/lib/python3.11/dist-packages (from ipykernel>=4.5.1->ipywidgets) (6.4.2)\n",
            "Requirement already satisfied: setuptools>=18.5 in /usr/local/lib/python3.11/dist-packages (from ipython>=4.0.0->ipywidgets) (75.2.0)\n",
            "Collecting jedi>=0.16 (from ipython>=4.0.0->ipywidgets)\n",
            "  Downloading jedi-0.19.2-py2.py3-none-any.whl.metadata (22 kB)\n",
            "Requirement already satisfied: decorator in /usr/local/lib/python3.11/dist-packages (from ipython>=4.0.0->ipywidgets) (4.4.2)\n",
            "Requirement already satisfied: pickleshare in /usr/local/lib/python3.11/dist-packages (from ipython>=4.0.0->ipywidgets) (0.7.5)\n",
            "Requirement already satisfied: prompt-toolkit!=3.0.0,!=3.0.1,<3.1.0,>=2.0.0 in /usr/local/lib/python3.11/dist-packages (from ipython>=4.0.0->ipywidgets) (3.0.51)\n",
            "Requirement already satisfied: pygments in /usr/local/lib/python3.11/dist-packages (from ipython>=4.0.0->ipywidgets) (2.18.0)\n",
            "Requirement already satisfied: backcall in /usr/local/lib/python3.11/dist-packages (from ipython>=4.0.0->ipywidgets) (0.2.0)\n",
            "Requirement already satisfied: pexpect>4.3 in /usr/local/lib/python3.11/dist-packages (from ipython>=4.0.0->ipywidgets) (4.9.0)\n",
            "Requirement already satisfied: notebook>=4.4.1 in /usr/local/lib/python3.11/dist-packages (from widgetsnbextension~=3.6.0->ipywidgets) (6.5.7)\n",
            "Requirement already satisfied: parso<0.9.0,>=0.8.4 in /usr/local/lib/python3.11/dist-packages (from jedi>=0.16->ipython>=4.0.0->ipywidgets) (0.8.4)\n",
            "Requirement already satisfied: jupyter-core>=4.6.0 in /usr/local/lib/python3.11/dist-packages (from jupyter-client>=6.1.12->ipykernel>=4.5.1->ipywidgets) (5.7.2)\n",
            "Requirement already satisfied: python-dateutil>=2.1 in /usr/local/lib/python3.11/dist-packages (from jupyter-client>=6.1.12->ipykernel>=4.5.1->ipywidgets) (2.8.2)\n",
            "Requirement already satisfied: jinja2 in /usr/local/lib/python3.11/dist-packages (from notebook>=4.4.1->widgetsnbextension~=3.6.0->ipywidgets) (3.1.6)\n",
            "Requirement already satisfied: argon2-cffi in /usr/local/lib/python3.11/dist-packages (from notebook>=4.4.1->widgetsnbextension~=3.6.0->ipywidgets) (23.1.0)\n",
            "Requirement already satisfied: nbformat in /usr/local/lib/python3.11/dist-packages (from notebook>=4.4.1->widgetsnbextension~=3.6.0->ipywidgets) (5.10.4)\n",
            "Requirement already satisfied: nbconvert>=5 in /usr/local/lib/python3.11/dist-packages (from notebook>=4.4.1->widgetsnbextension~=3.6.0->ipywidgets) (7.16.6)\n",
            "Requirement already satisfied: Send2Trash>=1.8.0 in /usr/local/lib/python3.11/dist-packages (from notebook>=4.4.1->widgetsnbextension~=3.6.0->ipywidgets) (1.8.3)\n",
            "Requirement already satisfied: terminado>=0.8.3 in /usr/local/lib/python3.11/dist-packages (from notebook>=4.4.1->widgetsnbextension~=3.6.0->ipywidgets) (0.18.1)\n",
            "Requirement already satisfied: prometheus-client in /usr/local/lib/python3.11/dist-packages (from notebook>=4.4.1->widgetsnbextension~=3.6.0->ipywidgets) (0.21.1)\n",
            "Requirement already satisfied: nbclassic>=0.4.7 in /usr/local/lib/python3.11/dist-packages (from notebook>=4.4.1->widgetsnbextension~=3.6.0->ipywidgets) (1.2.0)\n",
            "Requirement already satisfied: ptyprocess>=0.5 in /usr/local/lib/python3.11/dist-packages (from pexpect>4.3->ipython>=4.0.0->ipywidgets) (0.7.0)\n",
            "Requirement already satisfied: wcwidth in /usr/local/lib/python3.11/dist-packages (from prompt-toolkit!=3.0.0,!=3.0.1,<3.1.0,>=2.0.0->ipython>=4.0.0->ipywidgets) (0.2.13)\n",
            "Requirement already satisfied: platformdirs>=2.5 in /usr/local/lib/python3.11/dist-packages (from jupyter-core>=4.6.0->jupyter-client>=6.1.12->ipykernel>=4.5.1->ipywidgets) (4.3.7)\n",
            "Requirement already satisfied: notebook-shim>=0.2.3 in /usr/local/lib/python3.11/dist-packages (from nbclassic>=0.4.7->notebook>=4.4.1->widgetsnbextension~=3.6.0->ipywidgets) (0.2.4)\n",
            "Requirement already satisfied: beautifulsoup4 in /usr/local/lib/python3.11/dist-packages (from nbconvert>=5->notebook>=4.4.1->widgetsnbextension~=3.6.0->ipywidgets) (4.13.4)\n",
            "Requirement already satisfied: bleach!=5.0.0 in /usr/local/lib/python3.11/dist-packages (from bleach[css]!=5.0.0->nbconvert>=5->notebook>=4.4.1->widgetsnbextension~=3.6.0->ipywidgets) (6.2.0)\n",
            "Requirement already satisfied: defusedxml in /usr/local/lib/python3.11/dist-packages (from nbconvert>=5->notebook>=4.4.1->widgetsnbextension~=3.6.0->ipywidgets) (0.7.1)\n",
            "Requirement already satisfied: jupyterlab-pygments in /usr/local/lib/python3.11/dist-packages (from nbconvert>=5->notebook>=4.4.1->widgetsnbextension~=3.6.0->ipywidgets) (0.3.0)\n",
            "Requirement already satisfied: markupsafe>=2.0 in /usr/local/lib/python3.11/dist-packages (from nbconvert>=5->notebook>=4.4.1->widgetsnbextension~=3.6.0->ipywidgets) (3.0.2)\n",
            "Requirement already satisfied: mistune<4,>=2.0.3 in /usr/local/lib/python3.11/dist-packages (from nbconvert>=5->notebook>=4.4.1->widgetsnbextension~=3.6.0->ipywidgets) (3.1.3)\n",
            "Requirement already satisfied: nbclient>=0.5.0 in /usr/local/lib/python3.11/dist-packages (from nbconvert>=5->notebook>=4.4.1->widgetsnbextension~=3.6.0->ipywidgets) (0.10.2)\n",
            "Requirement already satisfied: pandocfilters>=1.4.1 in /usr/local/lib/python3.11/dist-packages (from nbconvert>=5->notebook>=4.4.1->widgetsnbextension~=3.6.0->ipywidgets) (1.5.1)\n",
            "Requirement already satisfied: fastjsonschema>=2.15 in /usr/local/lib/python3.11/dist-packages (from nbformat->notebook>=4.4.1->widgetsnbextension~=3.6.0->ipywidgets) (2.21.1)\n",
            "Requirement already satisfied: jsonschema>=2.6 in /usr/local/lib/python3.11/dist-packages (from nbformat->notebook>=4.4.1->widgetsnbextension~=3.6.0->ipywidgets) (4.23.0)\n",
            "Requirement already satisfied: six>=1.5 in /usr/local/lib/python3.11/dist-packages (from python-dateutil>=2.1->jupyter-client>=6.1.12->ipykernel>=4.5.1->ipywidgets) (1.17.0)\n",
            "Requirement already satisfied: argon2-cffi-bindings in /usr/local/lib/python3.11/dist-packages (from argon2-cffi->notebook>=4.4.1->widgetsnbextension~=3.6.0->ipywidgets) (21.2.0)\n",
            "Requirement already satisfied: webencodings in /usr/local/lib/python3.11/dist-packages (from bleach!=5.0.0->bleach[css]!=5.0.0->nbconvert>=5->notebook>=4.4.1->widgetsnbextension~=3.6.0->ipywidgets) (0.5.1)\n",
            "Requirement already satisfied: tinycss2<1.5,>=1.1.0 in /usr/local/lib/python3.11/dist-packages (from bleach[css]!=5.0.0->nbconvert>=5->notebook>=4.4.1->widgetsnbextension~=3.6.0->ipywidgets) (1.4.0)\n",
            "Requirement already satisfied: attrs>=22.2.0 in /usr/local/lib/python3.11/dist-packages (from jsonschema>=2.6->nbformat->notebook>=4.4.1->widgetsnbextension~=3.6.0->ipywidgets) (25.3.0)\n",
            "Requirement already satisfied: jsonschema-specifications>=2023.03.6 in /usr/local/lib/python3.11/dist-packages (from jsonschema>=2.6->nbformat->notebook>=4.4.1->widgetsnbextension~=3.6.0->ipywidgets) (2024.10.1)\n",
            "Requirement already satisfied: referencing>=0.28.4 in /usr/local/lib/python3.11/dist-packages (from jsonschema>=2.6->nbformat->notebook>=4.4.1->widgetsnbextension~=3.6.0->ipywidgets) (0.36.2)\n",
            "Requirement already satisfied: rpds-py>=0.7.1 in /usr/local/lib/python3.11/dist-packages (from jsonschema>=2.6->nbformat->notebook>=4.4.1->widgetsnbextension~=3.6.0->ipywidgets) (0.24.0)\n",
            "Requirement already satisfied: jupyter-server<3,>=1.8 in /usr/local/lib/python3.11/dist-packages (from notebook-shim>=0.2.3->nbclassic>=0.4.7->notebook>=4.4.1->widgetsnbextension~=3.6.0->ipywidgets) (1.16.0)\n",
            "Requirement already satisfied: cffi>=1.0.1 in /usr/local/lib/python3.11/dist-packages (from argon2-cffi-bindings->argon2-cffi->notebook>=4.4.1->widgetsnbextension~=3.6.0->ipywidgets) (1.17.1)\n",
            "Requirement already satisfied: soupsieve>1.2 in /usr/local/lib/python3.11/dist-packages (from beautifulsoup4->nbconvert>=5->notebook>=4.4.1->widgetsnbextension~=3.6.0->ipywidgets) (2.6)\n",
            "Requirement already satisfied: typing-extensions>=4.0.0 in /usr/local/lib/python3.11/dist-packages (from beautifulsoup4->nbconvert>=5->notebook>=4.4.1->widgetsnbextension~=3.6.0->ipywidgets) (4.13.2)\n",
            "Requirement already satisfied: pycparser in /usr/local/lib/python3.11/dist-packages (from cffi>=1.0.1->argon2-cffi-bindings->argon2-cffi->notebook>=4.4.1->widgetsnbextension~=3.6.0->ipywidgets) (2.22)\n",
            "Requirement already satisfied: anyio>=3.1.0 in /usr/local/lib/python3.11/dist-packages (from jupyter-server<3,>=1.8->notebook-shim>=0.2.3->nbclassic>=0.4.7->notebook>=4.4.1->widgetsnbextension~=3.6.0->ipywidgets) (4.9.0)\n",
            "Requirement already satisfied: websocket-client in /usr/local/lib/python3.11/dist-packages (from jupyter-server<3,>=1.8->notebook-shim>=0.2.3->nbclassic>=0.4.7->notebook>=4.4.1->widgetsnbextension~=3.6.0->ipywidgets) (1.8.0)\n",
            "Requirement already satisfied: idna>=2.8 in /usr/local/lib/python3.11/dist-packages (from anyio>=3.1.0->jupyter-server<3,>=1.8->notebook-shim>=0.2.3->nbclassic>=0.4.7->notebook>=4.4.1->widgetsnbextension~=3.6.0->ipywidgets) (3.10)\n",
            "Requirement already satisfied: sniffio>=1.1 in /usr/local/lib/python3.11/dist-packages (from anyio>=3.1.0->jupyter-server<3,>=1.8->notebook-shim>=0.2.3->nbclassic>=0.4.7->notebook>=4.4.1->widgetsnbextension~=3.6.0->ipywidgets) (1.3.1)\n",
            "Downloading jedi-0.19.2-py2.py3-none-any.whl (1.6 MB)\n",
            "\u001b[2K   \u001b[90m━━━━━━━━━━━━━━━━━━━━━━━━━━━━━━━━━━━━━━━━\u001b[0m \u001b[32m1.6/1.6 MB\u001b[0m \u001b[31m63.0 MB/s\u001b[0m eta \u001b[36m0:00:00\u001b[0m\n",
            "\u001b[?25hInstalling collected packages: jedi\n",
            "Successfully installed jedi-0.19.2\n"
          ]
        }
      ]
    },
    {
      "cell_type": "code",
      "source": [
        "\n",
        "from ipywidgets import FloatSlider, interact\n",
        "\n",
        "def viz_threshold(label_idx=0, thresh=0.5):\n",
        "    preds = (val_probs[:,label_idx] >= thresh).astype(int)\n",
        "    print(f\"Label {label_idx} — F1: {f1_score(y_val[:,label_idx], preds):.3f}\")\n",
        "\n",
        "interact(\n",
        "    viz_threshold,\n",
        "    label_idx=(0,3,1),\n",
        "    thresh=FloatSlider(min=0.1, max=0.7, step=0.05, value=0.5)\n",
        ")\n"
      ],
      "metadata": {
        "colab": {
          "base_uri": "https://localhost:8080/",
          "height": 185,
          "referenced_widgets": [
            "a986ca740e9647e9906ebd52ac08b0e4",
            "11b18702d68e447bb903815de608410b",
            "d07330e58ead40888c786dd43192d4a3",
            "0dc661e4ab1b4f24be9762791d79ba78",
            "2a044ab2b6374e67ad22864809a6b3ec",
            "39925b206a324ee2bcc8347819e20297",
            "daed3c096e5046aa983e8e3a08ad4c4c",
            "f5374af23b394e7b917368b36848d51a",
            "db942c8dc2c7411a884f2421169065d5",
            "c4858bac0be54666ba00be25570f7b00"
          ]
        },
        "id": "-EoC5WUiYd6Q",
        "outputId": "553d6f3a-4c60-4de1-b580-d9f9f54c7c22"
      },
      "execution_count": null,
      "outputs": [
        {
          "output_type": "display_data",
          "data": {
            "text/plain": [
              "interactive(children=(IntSlider(value=0, description='label_idx', max=3), FloatSlider(value=0.5, description='…"
            ],
            "application/vnd.jupyter.widget-view+json": {
              "version_major": 2,
              "version_minor": 0,
              "model_id": "a986ca740e9647e9906ebd52ac08b0e4"
            }
          },
          "metadata": {}
        },
        {
          "output_type": "execute_result",
          "data": {
            "text/plain": [
              "<function __main__.viz_threshold(label_idx=0, thresh=0.5)>"
            ],
            "text/html": [
              "<div style=\"max-width:800px; border: 1px solid var(--colab-border-color);\"><style>\n",
              "      pre.function-repr-contents {\n",
              "        overflow-x: auto;\n",
              "        padding: 8px 12px;\n",
              "        max-height: 500px;\n",
              "      }\n",
              "\n",
              "      pre.function-repr-contents.function-repr-contents-collapsed {\n",
              "        cursor: pointer;\n",
              "        max-height: 100px;\n",
              "      }\n",
              "    </style>\n",
              "    <pre style=\"white-space: initial; background:\n",
              "         var(--colab-secondary-surface-color); padding: 8px 12px;\n",
              "         border-bottom: 1px solid var(--colab-border-color);\"><b>viz_threshold</b><br/>def viz_threshold(label_idx=0, thresh=0.5)</pre><pre class=\"function-repr-contents function-repr-contents-collapsed\" style=\"\"><a class=\"filepath\" style=\"display:none\" href=\"#\">/content/&lt;ipython-input-31-265527677bed&gt;</a>&lt;no docstring&gt;</pre></div>"
            ]
          },
          "metadata": {},
          "execution_count": 31
        }
      ]
    },
    {
      "cell_type": "markdown",
      "source": [
        "<details><summary>Why use macro-F1 over accuracy?</summary>\n",
        "Macro-F1 weighs each label equally, guarding against class‐imbalance distortions.</details>\n",
        "\n",
        "<details><summary> What if AUC is ~0.5 for a label?</summary>\n",
        "The model has no discriminatory power—predictions are like random guessing."
      ],
      "metadata": {
        "id": "NHe2SLvWimmc"
      }
    },
    {
      "cell_type": "markdown",
      "source": [
        "# Visualization"
      ],
      "metadata": {
        "id": "A4PoiU1ud6uC"
      }
    },
    {
      "cell_type": "code",
      "source": [
        "import matplotlib.pyplot as plt\n",
        "\n",
        "# Extract loss per step\n",
        "train_steps, train_losses = [], []\n",
        "eval_steps,  eval_losses  = [], []\n",
        "\n",
        "for entry in trainer.state.log_history:\n",
        "    if 'loss' in entry and 'eval_loss' not in entry:\n",
        "        train_steps.append(entry['step'])\n",
        "        train_losses.append(entry['loss'])\n",
        "    if 'eval_loss' in entry:\n",
        "        eval_steps.append(entry['step'])\n",
        "        eval_losses.append(entry['eval_loss'])\n",
        "\n",
        "# Plot by step (not epoch)\n",
        "plt.figure()\n",
        "plt.plot(train_steps, train_losses, label='Train Loss')\n",
        "\n",
        "plt.xlabel('Step')\n",
        "plt.ylabel('Loss')\n",
        "plt.title('Train vs. Val Loss per Step')\n",
        "plt.legend()\n",
        "plt.show()\n"
      ],
      "metadata": {
        "colab": {
          "base_uri": "https://localhost:8080/",
          "height": 472
        },
        "id": "UPQ1xN8vnGRN",
        "outputId": "fd7958f5-562a-458e-e811-bf3d29260d71"
      },
      "execution_count": null,
      "outputs": [
        {
          "output_type": "display_data",
          "data": {
            "text/plain": [
              "<Figure size 640x480 with 1 Axes>"
            ],
            "image/png": "[encoded data removed]"
          },
          "metadata": {}
        }
      ]
    },
    {
      "cell_type": "markdown",
      "source": [
        "\"We're seeing that the model's loss fluctuates between batches, which is expected for a small-scale demo like this. We do get a slight downward trend, which hints at learning. In real training, we'd smooth this with more steps or larger batches — but for now, it confirms that our training loop is working correctly.\""
      ],
      "metadata": {
        "id": "tQ7RII87BnrM"
      }
    },
    {
      "cell_type": "markdown",
      "source": [
        "## 🌟 What Does \"Good\" Look Like? (A Peek Ahead)\n",
        "\n",
        "Once you've got the hang of the pipeline and start experimenting with things like learning rate, batch size, or threshold tuning — **you can absolutely get strong results!**\n",
        "\n",
        "In a fully tuned version of this same model, trained on the full dataset with carefully chosen hyperparameters, here's what we were able to achieve:\n",
        "\n",
        "### 📊 Evaluation Metrics\n",
        "- **Eval Loss:** `0.1905` – low error on unseen data\n",
        "- **Accuracy (Subset):** ~79.5% ✅\n",
        "- **Macro F1-score:** ~73.2% – balanced performance across labels  \n",
        "- **Per-label F1-scores:**\n",
        "  - Label 1: 66.15%\n",
        "  - Label 2: 86.42%\n",
        "  - Label 3: 76.51%\n",
        "  - Label 4: 63.82%\n",
        "- **Per-label Accuracy:** ~90.4%–97.1%\n",
        "- **ROC-AUC:** ~0.943 🎯 – shows the model separates classes very well\n",
        "\n",
        "### ⚙️ Training Metrics\n",
        "- **Final Train Loss:** ~0.1469 (after 5 full epochs)\n",
        "- **Runtime:** Efficient training and evaluation times\n",
        "\n",
        "### 🎚️ Threshold Optimization\n",
        "Each label gets its own threshold:\n",
        "```python\n",
        "[0.3, 0.55, 0.6, 0.3]\n",
        "```"
      ],
      "metadata": {
        "id": "cb-IRFzACHbt"
      }
    },
    {
      "cell_type": "markdown",
      "source": [
        "## 🛠️ Next Steps & Customization\n",
        "\n",
        "Now that you've seen the pipeline in action, here are some ideas for where to go next — this is where the real creativity starts! 🎨\n",
        "\n",
        "### 🔧 Hyperparameter Tuning\n",
        "Try experimenting with:\n",
        "- `learning_rate`: Try slightly higher or lower values (e.g. `3e-5`, `1e-5`)\n",
        "- `batch_size`: Larger batches may stabilize training; smaller batches may generalize better\n",
        "- `num_train_epochs`: 3–5 is usually a good sweet spot\n",
        "\n",
        "### 🧪 Data Augmentation & Preprocessing\n",
        "- Add new rules to `preprocess_text` (e.g. smarter emoji handling or negation detection)\n",
        "- Explore synonym replacement or dropout-based augmentation to increase robustness\n",
        "\n",
        "### 📊 Visualization\n",
        "- Plot **loss curves** to monitor training/validation performance over time\n",
        "- Plot **ROC curves** for each label to understand the model's discriminative ability\n",
        "- Try using a **confusion matrix** if you explore single-label versions later\n",
        "\n",
        "### 🔍 New Predictions (Try It Live!)\n",
        "Run the model on custom inputs:\n",
        "\n",
        "\n",
        "``` python\n",
        "new_texts = [\"Are you a magician? Because every time I look at you, everyone else disappears.\"]\n",
        "enc = tokenizer(new_texts, return_tensors=\"pt\", truncation=True, padding=True).to(model.device)\n",
        "with torch.no_grad():\n",
        "    logits = model(**enc).logits\n",
        "probs = torch.sigmoid(logits).cpu().numpy()\n",
        "print(\"Predicted probabilities:\", probs)\n",
        "```"
      ],
      "metadata": {
        "id": "veys06Njc3Wx"
      }
    },
    {
      "cell_type": "markdown",
      "source": [
        "## ✅ Your Model-Building Checklist\n",
        "\n",
        "You're now ready to build your own classifier using your custom scraped dataset! Here's a step-by-step guide to make sure your pipeline works end-to-end:\n",
        "\n",
        "---\n",
        "\n",
        "### 🧼 1. Preprocessing Your Own Data\n",
        "- [ ] Load your custom dataset into a DataFrame (e.g., `pd.read_csv()` or `json.load()`)\n",
        "- [ ] Identify your input text column (e.g., \"content\", \"comment\", etc.)\n",
        "- [ ] Map your labels to 0/1 format for multi-label classification\n",
        "- [ ] Clean your text using or adapting the `preprocess_text()` function\n",
        "- [ ] Optional: add emoji handling, custom token filters, or domain-specific rules\n",
        "\n",
        "---\n",
        "\n",
        "### 🔄 2. Tokenization\n",
        "- [ ] Use `DistilBertTokenizerFast` to tokenize your preprocessed text\n",
        "- [ ] Truncate and pad to a reasonable `max_length` (64 or 128)\n",
        "\n",
        "---\n",
        "\n",
        "### 📦 3. Dataset Wrapping\n",
        "- [ ] Create a `torch.utils.data.Dataset` class if using raw tensors\n",
        "- [ ] Double-check label dimensions match model expectations\n",
        "\n",
        "---\n",
        "\n",
        "### 🧠 4. Model Setup\n",
        "- [ ] Load `DistilBertForSequenceClassification` with `num_labels=N`\n",
        "- [ ] Use `problem_type=\"multi_label_classification\"` for independent label heads\n",
        "\n",
        "---\n",
        "\n",
        "### ⚙️ 5. Training\n",
        "- [ ] Define sensible `TrainingArguments` (batch size, learning rate, etc.)\n",
        "- [ ] Split your dataset: train/val/test\n",
        "- [ ] Train with `Trainer(train_dataset=..., eval_dataset=...)`\n",
        "- [ ] (Optional) Use `EarlyStoppingCallback` if running for longer\n",
        "\n",
        "---\n",
        "\n",
        "### 🎯 6. Evaluation & Thresholds\n",
        "- [ ] Predict on validation data and compute metrics (accuracy, F1, ROC-AUC)\n",
        "- [ ] Tune per-label thresholds using validation results\n",
        "- [ ] Evaluate final model on test set\n",
        "\n",
        "---\n",
        "\n",
        "### 📊 7. Visualizations\n",
        "- [ ] Plot **training vs. validation loss** over time\n",
        "- [ ] Plot **ROC curves** for each label\n",
        "- [ ] Visualize confusion matrix (if switching to single-label later)\n",
        "\n",
        "---\n",
        "\n",
        "### 🚀 8. Deploy/Test Your Model\n",
        "- [ ] Write a function to take new text and output predicted labels\n",
        "- [ ] Test with new data (or live inputs!)\n",
        "- [ ] Optional: wrap your model with a simple UI or API\n",
        "\n",
        "---\n",
        "\n",
        "> ✅ Once you've completed this checklist, you'll have a fully custom, fine-tuned, multi-label classifier trained on your own dataset."
      ],
      "metadata": {
        "id": "pWnGS_mhDDJH"
      }
    }
  ]
}